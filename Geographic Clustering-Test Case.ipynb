{
 "metadata": {
  "name": ""
 },
 "nbformat": 3,
 "nbformat_minor": 0,
 "worksheets": [
  {
   "cells": [
    {
     "cell_type": "heading",
     "level": 2,
     "metadata": {},
     "source": [
      "Proof of concept"
     ]
    },
    {
     "cell_type": "heading",
     "level": 3,
     "metadata": {},
     "source": [
      "Gradient Descent Functions"
     ]
    },
    {
     "cell_type": "code",
     "collapsed": false,
     "input": [
      "import numpy as np\n",
      "import pandas as pd\n",
      "import matplotlib.pyplot as plt\n",
      "%matplotlib inline"
     ],
     "language": "python",
     "metadata": {},
     "outputs": [],
     "prompt_number": 1
    },
    {
     "cell_type": "code",
     "collapsed": false,
     "input": [
      "def norm_distances(cohort):\n",
      "    norm_param = pd.DataFrame(np.zeros((2, 3)), index=['mu', 'sigma'], columns=['fire', 'water', 'road'])\n",
      "    norm_param.loc['mu', 'fire'] = cohort.Horizontal_Distance_To_Fire_Points.mean()\n",
      "    norm_param.loc['sigma', 'fire'] = cohort.Horizontal_Distance_To_Fire_Points.std()\n",
      "    norm_param.loc['mu', 'water'] = cohort.Horizontal_Distance_To_Hydrology.mean()\n",
      "    norm_param.loc['sigma', 'water'] = cohort.Horizontal_Distance_To_Hydrology.std()\n",
      "    norm_param.loc['mu', 'road'] = cohort.Horizontal_Distance_To_Roadways.mean()\n",
      "    norm_param.loc['sigma', 'road'] = cohort.Horizontal_Distance_To_Roadways.std()\n",
      "    cohort['fire_normed'] = (cohort.Horizontal_Distance_To_Fire_Points - norm_param.fire.mu)/norm_param.fire.sigma\n",
      "    cohort['water_normed'] = (cohort.Horizontal_Distance_To_Hydrology - norm_param.water.mu)/norm_param.water.sigma\n",
      "    cohort['road_normed'] = (cohort.Horizontal_Distance_To_Roadways - norm_param.road.mu)/norm_param.road.sigma\n",
      "    return norm_param"
     ],
     "language": "python",
     "metadata": {},
     "outputs": [],
     "prompt_number": 2
    },
    {
     "cell_type": "code",
     "collapsed": false,
     "input": [
      "def cost(cohort, points, fixed_points, norm_param=None):\n",
      "    #cohort of points we are trying to map to a 2d representation that fits the data\n",
      "    #points are the x, y coordinates of the hypothesized points (should be len(cohort) of them)\n",
      "    #fixed_points x, y coordinates of the hypothesized fire, water, road locations\n",
      "    #This is not the exact same cost function the derivative of the cost function uses - this \n",
      "    #  one uses square root to make the values a little easier to think of as an average error\n",
      "    #  but would unnecessarily complicate the derivative\n",
      "    if norm_param is None:\n",
      "        fire_d = np.sqrt((dist(points, fixed_points['fire']) - cohort.Horizontal_Distance_To_Fire_Points.values)**2)\n",
      "        water_d = np.sqrt((dist(points, fixed_points['water']) - cohort.Horizontal_Distance_To_Hydrology.values)**2)\n",
      "        road_d = np.sqrt((dist(points, fixed_points['road']) - cohort.Horizontal_Distance_To_Roadways.values)**2)\n",
      "    else:\n",
      "        fire_d = np.sqrt((dist(points, fixed_points['fire'], norm_param.fire) - cohort.fire_normed.values)**2)\n",
      "        water_d = np.sqrt((dist(points, fixed_points['water'], norm_param.water) - cohort.water_normed.values)**2)\n",
      "        road_d = np.sqrt((dist(points, fixed_points['road'], norm_param.road) - cohort.road_normed.values)**2)\n",
      "    return 1.0/(2*len(cohort))*(fire_d.sum() + water_d.sum() + road_d.sum())\n",
      "\n",
      "def dist(points, fp, norm_param=None):\n",
      "    #Distance between points and fixed point (fire, water, road).\n",
      "    #points: should be a DataFrame \n",
      "    #fp: should be a dict of a single of the fixed points e.g. {fire: {'x':1, 'y':2}}\n",
      "    if norm_param is None:\n",
      "        return np.sqrt((points.x - fp['x'])**2 + (points.y - fp['y'])**2)\n",
      "    else:\n",
      "        return (np.sqrt((points.x - fp['x'])**2 + (points.y - fp['y'])**2) - norm_param.mu)/norm_param.sigma\n",
      "    \n",
      "\n",
      "def partial(cohort_d, points, fp, norm_param=None):\n",
      "    #Finds the partial derivative of the part of the cost function relating to the fixed point fp\n",
      "    #cohort_d: Series containing the true distances of the points to the true fixed point\n",
      "    #  or the normed true distances if norm_param is not None\n",
      "    #points:  DataFrame of the hypothesized points\n",
      "    #fp:  dict of a single of the hypothesized fixed points e.g. {fire: {'x':1, 'y':2}}\n",
      "    #norm_param: mean and standard deviation used to normalize distances relative to fp\n",
      "    \n",
      "    distances = dist(points, fp) #In this case we want the distances, not the normed distances regarless of \n",
      "                                 #  whether we are otherwise normalizing   \n",
      "    if norm_param is None:\n",
      "        differences = distances - cohort_d.values\n",
      "        main_partial = (differences/distances)\n",
      "    else:\n",
      "        differences = (distances - norm_param.mu)/norm_param.sigma - cohort_d.values\n",
      "        main_partial = differences/(distances*norm_param.sigma)\n",
      "    partial_x = main_partial*2*(points.x - fp['x'])\n",
      "    partial_y = main_partial*2*(points.y - fp['y'])\n",
      "    return partial_x, partial_y\n",
      "    \n",
      "def cost_deriv(cohort, points, fixed_points, norm_param=None):\n",
      "    #Returns the partial derivatives of the cost function relative to the hypothesized x, y and fixed points\n",
      "    #cohort:  DataFrame of the true distances\n",
      "    #points:  DataFrame of the hypothesized x,y coordinates\n",
      "    #fixed_points:  dict of the fixed points (fire, water, road)\n",
      "    #norm_param:  parameters used to normalize features if normalized\n",
      "    fixed = {}\n",
      "    if norm_param is None:\n",
      "        f_p_x, f_p_y = partial(cohort.Horizontal_Distance_To_Fire_Points, points, fixed_points['fire'])\n",
      "        w_p_x, w_p_y = partial(cohort.Horizontal_Distance_To_Hydrology, points, fixed_points['water'])\n",
      "        r_p_x, r_p_y = partial(cohort.Horizontal_Distance_To_Roadways, points, fixed_points['road'])\n",
      "    else:\n",
      "        f_p_x, f_p_y = partial(cohort.fire_normed, points, fixed_points['fire'], norm_param.fire)\n",
      "        w_p_x, w_p_y = partial(cohort.water_normed, points, fixed_points['water'], norm_param.water)\n",
      "        r_p_x, r_p_y = partial(cohort.road_normed, points, fixed_points['road'], norm_param.road)\n",
      "    a = 1.0/(2*len(cohort))\n",
      "    fixed['fire'] = {'x': -a*f_p_x.sum(), 'y': -a*f_p_y.sum()}\n",
      "    fixed['water'] = {'x': -a*w_p_x.sum(), 'y': -a*w_p_y.sum()}\n",
      "    fixed['road'] = {'x': -a*r_p_x.sum(), 'y': -a*r_p_y.sum()}\n",
      "    partial_x = a*(f_p_x + w_p_x + r_p_x)\n",
      "    partial_y = a*(f_p_y + w_p_y + r_p_y)\n",
      "    return partial_x, partial_y, fixed\n",
      "    "
     ],
     "language": "python",
     "metadata": {},
     "outputs": [],
     "prompt_number": 3
    },
    {
     "cell_type": "code",
     "collapsed": false,
     "input": [
      "def init_points(cohort):\n",
      "    #Initializes set of hypothesized points and fixed points for iterating our gradient descent algorithm\n",
      "    #cohort:  DataFrame containing the true distances of the points to the fixed points\n",
      "    points = pd.DataFrame(100*np.random.randn(len(cohort), 2), columns=['x', 'y'])\n",
      "    vals = 1000*np.random.randn(6)\n",
      "    fixed_points = {'fire': {'x': vals[0], 'y':vals[1]}, 'water': {'x': vals[2], 'y':vals[3]}, \n",
      "                    'road': {'x': vals[4], 'y':vals[5]}}\n",
      "    return points, fixed_points"
     ],
     "language": "python",
     "metadata": {},
     "outputs": [],
     "prompt_number": 4
    },
    {
     "cell_type": "code",
     "collapsed": false,
     "input": [
      "def update_values(points, fixed_points, alpha, x_update, y_update, fp_update):\n",
      "    #Performs the basic arithmetic to update the values of the hypothesized points and fixed_points\n",
      "    #points:  DataFrame of hypothesized x, y coordinates\n",
      "    #fixed_points:  dict of hypothesized fixed_point coordinates\n",
      "    #alpha:  learning rate (a scalar)\n",
      "    #*_update:  values to update *-coordinates with\n",
      "    points.x = points.x - alpha*x_update\n",
      "    points.y = points.y - alpha*y_update\n",
      "    fixed_points['fire']['x'] = fixed_points['fire']['x'] - alpha*fp_update['fire']['x']\n",
      "    fixed_points['fire']['y'] = fixed_points['fire']['y'] - alpha*fp_update['fire']['y']\n",
      "    fixed_points['water']['x'] = fixed_points['water']['x'] - alpha*fp_update['water']['x']\n",
      "    fixed_points['water']['y'] = fixed_points['water']['y'] - alpha*fp_update['water']['y']\n",
      "    fixed_points['road']['x'] = fixed_points['road']['x'] - alpha*fp_update['road']['x']\n",
      "    fixed_points['road']['y'] = fixed_points['road']['y'] - alpha*fp_update['road']['y']\n",
      "    return points, fixed_points\n",
      "\n",
      "def iterate_hypothesis(n, cohort, alpha=.02, p=None, fp=None, norm_param=None, show_costs=True):\n",
      "    #Iterates the gradient descent algorithm\n",
      "    #Prints out cost of the hypothesized coordinates at intervals throughout the iteration\n",
      "    #Returns p, fp that have resulted at end of n iterations\n",
      "    #n:  Number of iterations (integer)\n",
      "    #cohort:  DataFrame containing true distances of points from fixed points\n",
      "    #alpha:  learning rate (positive real number\n",
      "    #p:  DataFrame of hypothesized x, y coordinates.  Will initialize to random values if not supplied\n",
      "    #fp: DataFrame of hypothesized fixed point coordinates.  Will initialize to random values if not supplied\n",
      "    periodic_costs = []\n",
      "    if norm_param is None:\n",
      "        threshold = .5\n",
      "    else:\n",
      "        threshold = .003\n",
      "    if p is None or fp is None:\n",
      "        print \"initializing points\"\n",
      "        p, fp = init_points(cohort)\n",
      "    periodic_costs.append(cost(cohort, p, fp, norm_param))\n",
      "    if norm_param is None and show_costs:\n",
      "        print \"Initial cost {:.3f}\".format(periodic_costs[-1])\n",
      "    elif show_costs:\n",
      "        print \"Initial cost {:.3f}\".format(periodic_costs[-1])\n",
      "    digit_size = int(np.log10(n))\n",
      "    print_mod = 10**(digit_size-1)\n",
      "    for i in range(n):\n",
      "        px, py, pfix = cost_deriv(cohort, p, fp, norm_param)\n",
      "        p, fp = update_values(p, fp, alpha, px, py, pfix)\n",
      "        \n",
      "        if (i+1)%print_mod == 0:\n",
      "            periodic_costs.append(cost(cohort, p, fp, norm_param))\n",
      "            digits = int(np.log10(periodic_costs[-1] + 1) + 1)\n",
      "            if norm_param is None and show_costs:\n",
      "                print \"Iteration {}: cost {:.3f}, digit count {}\".format(i+1, periodic_costs[-1], digits)\n",
      "            elif show_costs:\n",
      "                print \"Iteration {}: cost {:.3f}, digit count {}\".format(i+1, periodic_costs[-1], digits)\n",
      "            if periodic_costs[-1] < threshold:\n",
      "                print \"Breaking off since cost ({:.3f}) is less than threshold value ({})\".format(periodic_costs[-1], threshold)\n",
      "                break\n",
      "    return p, fp, periodic_costs"
     ],
     "language": "python",
     "metadata": {},
     "outputs": [],
     "prompt_number": 5
    },
    {
     "cell_type": "heading",
     "level": 3,
     "metadata": {},
     "source": [
      "Functions to create test data and display results"
     ]
    },
    {
     "cell_type": "code",
     "collapsed": false,
     "input": [
      "def find_distances(points, fixed_points):\n",
      "    #Given points and fixed_points will return a DataFrame containing the distances from the points to the fixed points\n",
      "    #This is intended to build a DataFrame with values similar to what we get from the kaggle competition from\n",
      "    #  the points and fixed_point coordinates that we generated for testing\n",
      "    #points:  DataFrame of x, y coordinates\n",
      "    #fixed_points:  dict of fixed point coordinates (fire, water, road)\n",
      "    df = pd.DataFrame(np.zeros((len(points), 3)), columns=['Horizontal_Distance_To_Fire_Points',\n",
      "                                                           'Horizontal_Distance_To_Hydrology',\n",
      "                                                           'Horizontal_Distance_To_Roadways'])\n",
      "    df['Horizontal_Distance_To_Fire_Points'] = np.sqrt((points.x - fixed_points['fire']['x'])**2 + \n",
      "                                                       (points.y - fixed_points['fire']['y'])**2)\n",
      "    df['Horizontal_Distance_To_Hydrology'] = np.sqrt((points.x - fixed_points['water']['x'])**2 + \n",
      "                                                     (points.y - fixed_points['water']['y'])**2)\n",
      "    df['Horizontal_Distance_To_Roadways'] = np.sqrt((points.x - fixed_points['road']['x'])**2 + \n",
      "                                                    (points.y - fixed_points['road']['y'])**2)\n",
      "    return df"
     ],
     "language": "python",
     "metadata": {},
     "outputs": [],
     "prompt_number": 6
    },
    {
     "cell_type": "code",
     "collapsed": false,
     "input": [
      "def examine_results(cohort, p, fp):\n",
      "    #cohort is original data set, p is hypothesized points, fp is hypothesized fire, water, road points\n",
      "    #prints out the difference between the hypothesized distances and true distances \n",
      "    #  between each point and the fixed points rounded to integer\n",
      "    ordering = pd.DataFrame(np.zeros((len(p), 4)), columns=['fire', 'water', 'road', 'total'])\n",
      "    for i in range(len(p)):\n",
      "        fire_d = np.sqrt((p.x.iloc[i] - fp['fire']['x'])**2 + (p.y.iloc[i] - fp['fire']['y'])**2)\n",
      "        water_d = np.sqrt((p.x.iloc[i] - fp['water']['x'])**2 + (p.y.iloc[i] - fp['water']['y'])**2)\n",
      "        road_d = np.sqrt((p.x.iloc[i] - fp['road']['x'])**2 + (p.y.iloc[i] - fp['road']['y'])**2)\n",
      "        true_f = cohort.Horizontal_Distance_To_Fire_Points.iloc[i]\n",
      "        true_w = cohort.Horizontal_Distance_To_Hydrology.iloc[i]\n",
      "        true_r = cohort.Horizontal_Distance_To_Roadways.iloc[i]\n",
      "        ordering.loc[i, ['fire', 'water', 'road']] = [fire_d - true_f, water_d - true_w, road_d - true_r]\n",
      "    ordering['total'] = abs(ordering['fire']) + abs(ordering['water']) + abs(ordering['road'])\n",
      "    return ordering"
     ],
     "language": "python",
     "metadata": {},
     "outputs": [],
     "prompt_number": 7
    },
    {
     "cell_type": "code",
     "collapsed": false,
     "input": [
      "def jiggle(indices, points, fixed_points, about='fire', axis='both'):\n",
      "    for index in indices:\n",
      "        recenter(fixed_points, points, -fixed_points[about]['x'], -fixed_points[about]['y'])\n",
      "        if axis == 'x' or axis == 'both':\n",
      "            points.loc[index, 'x'] = - points.loc[index, 'x']\n",
      "        elif axis == 'y' or axis == 'both':\n",
      "            points.loc[index, 'y'] = - points.loc[index, 'y']"
     ],
     "language": "python",
     "metadata": {},
     "outputs": [],
     "prompt_number": 8
    },
    {
     "cell_type": "code",
     "collapsed": false,
     "input": [
      "def automated_iteration(data, n=1000, alpha=2, show_costs=False):\n",
      "    inc_improvement_threshold = .008 #Relative change in cost at which we wnt to adjust values before continuing\n",
      "                                    #Probably makes sense for this to be different depending on n\n",
      "                                    #  but if we are reasonably consistent with n can just hand tune as needed\n",
      "    cost_threshold = .5  #Cost at which we call it good enough\n",
      "    p, fp, costs = iterate_hypothesis(n, data, alpha, None, None, None, show_costs)\n",
      "    loop_count = 1\n",
      "    adjust_count = 0\n",
      "    cost_change = (costs[-2] - costs[-1])/costs[-1]\n",
      "    worst_index = -1\n",
      "    worst_change_count = 0\n",
      "    best_jiggle = [0,0,0]\n",
      "    \n",
      "    while costs[-1] > cost_threshold:\n",
      "        while cost_change is None or cost_change >= inc_improvement_threshold:\n",
      "            if cost_change is not None:\n",
      "                print \"Doing well (change of {:.3f}).  Cost {:.3f}.  Keeping at it.\".format(cost_change, costs[-1])\n",
      "            loop_count += 1\n",
      "            p, fp, costs = iterate_hypothesis(n, data, alpha, p, fp, None, show_costs)\n",
      "            if costs[-1] <= 1:  #At this point absolute change more compelling than relative change\n",
      "                cost_change = (costs[-2] - costs[-1])\n",
      "            else:\n",
      "                cost_change = (costs[-2] - costs[-1])/costs[-1]\n",
      "            if costs[-1] < cost_threshold:\n",
      "                print \"We did it!  cost: {:.3f}\".format(costs[-1])\n",
      "                print \"Best jiggles {}\".format(best_jiggle)\n",
      "                print \"Loop count {}, total iterations {}\".format(loop_count, loop_count*n)\n",
      "                print \"Adjustment count {}\".format(adjust_count)\n",
      "                return p, fp, costs\n",
      "        else:\n",
      "            print \"Did not change much ({:.3f}), cost {:.3f} - need to adjust\".format(cost_change, costs[-1])\n",
      "        order = examine_results(data, p, fp)\n",
      "        indices = order.sort('total', ascending=False).head(1).index\n",
      "        if worst_index == indices[0]:\n",
      "            worst_change_count += 1\n",
      "        else:\n",
      "            best_jiggle[worst_change_count] += 1\n",
      "            worst_index = indices[0]\n",
      "            worst_change_count = 0\n",
      "        about = order.loc[indices[0], ['fire', 'water', 'road']].abs().idxmin()\n",
      "        adjust_count += 1\n",
      "        if worst_change_count == 0:\n",
      "            jiggle(indices, p, fp, about, 'y')\n",
      "        elif worst_change_count == 1:\n",
      "            jiggle(indices, p, fp, about, 'x')\n",
      "        elif worst_change_count == 2:\n",
      "            jiggle(indices, p, fp, about, 'both')\n",
      "        else:\n",
      "            print \"None of the jiggling worked! :-( index {}\".format(indices[0])\n",
      "            print \"Best jiggles {}\".format(best_jiggle)\n",
      "            print \"Loop count {}, total iterations {}\".format(loop_count, loop_count*n)\n",
      "            print \"Adjustment count {}\".format(adjust_count)            \n",
      "            return p, fp, costs\n",
      "        cost_change = None\n",
      "    else:\n",
      "        print \"Best jiggles {}\".format(best_jiggle)\n",
      "        print \"Loop count {}, total iterations {}\".format(loop_count, loop_count*n)\n",
      "        print \"Adjustment count {}\".format(adjust_count)\n",
      "        return p, fp, costs\n",
      "\n",
      "#This was the second pass through iterating 10000 times.  In between the first and second pass I hand\n",
      "#  adjusted one of the hypothesized points that seemed to be stuck in a local minima and the set quickly converged\n",
      "#  after that.\n",
      "#p, fp, costs = iterate_hypothesis(1000, df, 2)#, p, fp, None)#, norm_p)\n",
      "#%timeit -n 10 -r 1 iterate_hypothesis(1000, df, 1.5, None, None, None, False)\n",
      "#print costs\n",
      "#p, fp, costs = automated_iteration(df, n=1000)"
     ],
     "language": "python",
     "metadata": {},
     "outputs": [],
     "prompt_number": 30
    },
    {
     "cell_type": "code",
     "collapsed": false,
     "input": [
      "def plot_results(true_points, hyp_points, true_fixed_points, hyp_fixed_points, inc_true=True, inc_hyp=True):\n",
      "    #Plot the hypothesized points and fixed points as well as the true points and fixed points.\n",
      "    #  The true values will plot as circles, the hypothesized as x.\n",
      "    #  The fixed points will be larger with same shape scheme and red for fire, blue for water, black for road\n",
      "    if inc_true:\n",
      "        plt.scatter(true_points.x, true_points.y, c=range(0, len(hyp_points)), marker='o', s=60)\n",
      "        plt.scatter([true_fixed_points['fire']['x']], [true_fixed_points['fire']['y']], c='red', s=250)\n",
      "        plt.scatter([true_fixed_points['water']['x']], [true_fixed_points['water']['y']], c='blue', s=250)\n",
      "        plt.scatter([true_fixed_points['road']['x']], [true_fixed_points['road']['y']], c='black', s=250)\n",
      "    if inc_hyp:\n",
      "        plt.scatter(hyp_points.x, hyp_points.y, c=range(0, len(hyp_points)), marker='x', s=60)\n",
      "        plt.scatter([hyp_fixed_points['fire']['x']], [hyp_fixed_points['fire']['y']], c='red', marker='x', s=250)\n",
      "        plt.scatter([hyp_fixed_points['water']['x']], [hyp_fixed_points['water']['y']], c='blue', marker='x', s=250)\n",
      "        plt.scatter([hyp_fixed_points['road']['x']], [hyp_fixed_points['road']['y']], c='black', marker='x', s=250)\n",
      "\n",
      "    plt.show()\n"
     ],
     "language": "python",
     "metadata": {},
     "outputs": [],
     "prompt_number": 39
    },
    {
     "cell_type": "code",
     "collapsed": false,
     "input": [
      "def recenter(fixed_points, points, x_amount, y_amount):\n",
      "    #The reason for this function is to make comparison of original points and hypothesized points simpler\n",
      "    #  because we can center around a corresponding point (e.g. set fire point to 0,0 for both sets)\n",
      "    #  and then matching up their plots only requires reflection and/or rotation\n",
      "    #This may also be useful (needs more testing) for helping get hypothesized points out of local minima\n",
      "    #  by centering on a fixed point and reflecting problem point across it\n",
      "    if points is not None:\n",
      "        points.x += x_amount\n",
      "        points.y += y_amount\n",
      "    if fixed_points is not None:\n",
      "        fixed_points['fire']['x'] += x_amount\n",
      "        fixed_points['fire']['y'] += y_amount\n",
      "        fixed_points['water']['x'] += x_amount\n",
      "        fixed_points['water']['y'] += y_amount\n",
      "        fixed_points['road']['x'] += x_amount\n",
      "        fixed_points['road']['y'] += y_amount\n",
      "    "
     ],
     "language": "python",
     "metadata": {},
     "outputs": [],
     "prompt_number": 134
    },
    {
     "cell_type": "code",
     "collapsed": false,
     "input": [
      "def fp_to_array(fp):\n",
      "    A = np.zeros((2, 3))\n",
      "    A[0,0] = fp['fire']['x']\n",
      "    A[1,0] = fp['fire']['y']\n",
      "    A[0,1] = fp['water']['x']\n",
      "    A[1,1] = fp['water']['y']\n",
      "    A[0,2] = fp['road']['x']\n",
      "    A[1,2] = fp['road']['y']\n",
      "    return A\n",
      "\n",
      "def fp_from_array(fp, A):\n",
      "    fp['fire']['x'] = A[0, 0]\n",
      "    fp['fire']['y'] = A[1,0]\n",
      "    fp['water']['x'] = A[0,1]\n",
      "    fp['water']['y'] = A[1,1]\n",
      "    fp['road']['x'] = A[0,2]\n",
      "    fp['road']['y'] = A[1,2]\n",
      "    \n",
      "def rotate(points, fixed_points, angle):\n",
      "    A = np.zeros((2,2))\n",
      "    A[0,0] = np.cos(angle)\n",
      "    A[1,0] = np.sin(angle)\n",
      "    A[0,1] = -np.sin(angle)\n",
      "    A[1,1] = np.cos(angle)\n",
      "    \n",
      "    return np.transpose(np.dot(A, np.transpose(points[['x', 'y']].values))), np.dot(A, fp_to_array(fixed_points))"
     ],
     "language": "python",
     "metadata": {},
     "outputs": [],
     "prompt_number": 196
    },
    {
     "cell_type": "code",
     "collapsed": false,
     "input": [
      "def compare_plots(true_p, hyp_p, true_fp, hyp_fp, rotation, reflection=None):\n",
      "    plt.figure(figsize=(12, 8))\n",
      "    pr, fpr = rotate(hyp_p, hyp_fp, rotation)\n",
      "#    maxval = max([max(abs(fpr)), max(abs(pr))\n",
      "    plt.axis('equal')\n",
      "    # negative x-values to make a reflection over the y-axis\n",
      "    if reflection is not None and reflection.lower() == 'y':\n",
      "        pr[:,0] = -pr[:,0]\n",
      "        fpr[0,:] = -fpr[0,:]\n",
      "    elif reflection is not None and reflection.lower() == 'x':\n",
      "        pr[:,1] = -pr[:,1]\n",
      "        fpr[1,:] = -fpr[1,:]\n",
      "    plt.scatter(pr[:, 0], pr[:, 1], c=range(0, len(pr[:,0])), marker='x', s=60)\n",
      "    plt.scatter(fpr[0,0], fpr[1, 0], c='red', marker='x', s=250)\n",
      "    plt.scatter(fpr[0,1], fpr[1, 1], c='blue', marker='x', s=250)\n",
      "    plt.scatter(fpr[0,2], fpr[1, 2], c='black', marker='x', s=250)\n",
      "    plot_results(true_p, hyp_p, true_fp, hyp_fp, inc_hyp=False)"
     ],
     "language": "python",
     "metadata": {},
     "outputs": [],
     "prompt_number": 13
    },
    {
     "cell_type": "heading",
     "level": 3,
     "metadata": {},
     "source": [
      "Run the algorithm"
     ]
    },
    {
     "cell_type": "code",
     "collapsed": false,
     "input": [
      "def distance_3d(p1, p2):\n",
      "    return np.sqrt((p1['Horizontal_Distance_To_Fire_Points'] - p2['Horizontal_Distance_To_Fire_Points'])**2 +\n",
      "                   (p1['Horizontal_Distance_To_Hydrology'] - p2['Horizontal_Distance_To_Hydrology'])**2 +\n",
      "                   (p1['Horizontal_Distance_To_Roadways'] - p2['Horizontal_Distance_To_Roadways'])**2)\n",
      "\n",
      "def find_cohort(pix, radius, df): \n",
      "    ds = pd.DataFrame(np.zeros((len(df), 1)), columns=['distance'])\n",
      "    for i in range(len(df)):\n",
      "        ds.loc[i, 'distance'] = distance_3d(df.loc[pix], df.loc[i])\n",
      "    return ds.loc[ds.distance < radius]\n",
      "\n",
      "def make_cohorts(radius, df):\n",
      "    #From testing, it appears that having cohorts of at least size 4 is desirable, I did have one example\n",
      "    #  at size 4 that failed to converge nicely, but several other examples worked quite well.\n",
      "    #Size 3 had some tests that worked great and some that did converged to a non-true solution\n",
      "    cohorts = []\n",
      "    remaining = df.index\n",
      "    \n",
      "    while len(remaining) > 0:\n",
      "        p = remaining[np.random.randint(len(remaining))]\n",
      "        cohorts.append(find_cohort(p, radius, df))\n",
      "        remaining = remaining - cohorts[-1].index\n",
      "    return cohorts"
     ],
     "language": "python",
     "metadata": {},
     "outputs": [],
     "prompt_number": 14
    },
    {
     "cell_type": "code",
     "collapsed": false,
     "input": [
      "#Creates a set of n 'true' coordinates for a test set of points and fixed_points then generate the DataFrame\n",
      "#  containing the distances of the points to the fixed points\n",
      "n = 64\n",
      "points = pd.DataFrame(1000*np.random.randn(n, 2), columns=['x', 'y'])\n",
      "vals = 1000*np.random.randn(6)\n",
      "fixed_points = {'fire': {'x': vals[0], 'y': vals[1]}, 'water': {'x': vals[2], 'y': vals[3]},\n",
      "                'road': {'x': vals[4], 'y': vals[5]}}\n",
      "df = find_distances(points, fixed_points)"
     ],
     "language": "python",
     "metadata": {},
     "outputs": [],
     "prompt_number": 215
    },
    {
     "cell_type": "code",
     "collapsed": false,
     "input": [
      "fps = []\n",
      "cohorts = make_cohorts(1500, df)\n",
      "print len(cohorts)\n",
      "for i in range(len(cohorts)):\n",
      "    cohorts[i] = df.loc[cohorts[i].index]\n",
      "    print \"Cohort {}, length {}\".format(i, len(cohorts[i]))\n",
      "#plt.scatter(df.Horizontal_Distance_To_Hydrology, \n",
      "#            df.Horizontal_Distance_To_Roadways, c='blue')\n",
      "#plt.scatter(df.loc[cohorts[i].index].Horizontal_Distance_To_Hydrology, \n",
      "#            df.loc[cohorts[i].index].Horizontal_Distance_To_Roadways, c='red')\n",
      "\n",
      "#plt.scatter(df.loc[t1].Horizontal_Distance_To_Hydrology, df.loc[t1].Horizontal_Distance_To_Roadways, s=200, c='red')\n"
     ],
     "language": "python",
     "metadata": {},
     "outputs": [
      {
       "output_type": "stream",
       "stream": "stdout",
       "text": [
        "7\n",
        "Cohort 0, length 31\n",
        "Cohort 1, length 5\n",
        "Cohort 2, length 4\n",
        "Cohort 3, length 35\n",
        "Cohort 4, length 3\n",
        "Cohort 5, length 19\n",
        "Cohort 6, length 1\n"
       ]
      }
     ],
     "prompt_number": 216
    },
    {
     "cell_type": "code",
     "collapsed": false,
     "input": [
      "def align_cohorts(primary, secondary, secondary_fp):\n",
      "    #primary cohort will have the point values maintained\n",
      "    #secondary cohort will have point values adjusted to line up with primary if possible\n",
      "    #secondary fixed points will receive same transformations as secondary cohort\n",
      "    #There must be at least three points in common between primary and secondary for it to work.\n",
      "    overlap = primary.index & secondary.index\n",
      "    if len(overlap) < 3:\n",
      "        return False\n",
      "    #First shift secondary so one of the points aligns with corresponding primary point\n",
      "    diff_x = primary.loc[overlap[0]].x - secondary.loc[overlap[0]].x\n",
      "    diff_y = primary.loc[overlap[0]].y - secondary.loc[overlap[0]].y\n",
      "    recenter(secondary_fp, secondary, diff_x, diff_y)\n",
      "    \n",
      "    #Next need rotation/reflection that best fits remaining overlapped points\n",
      "    #We want the rotation to be around the point of commonality, so easiest if we\n",
      "    #  shift that value to 0, 0, do the rotation, then shift back\n",
      "    shift_x = primary.loc[overlap[0]].x\n",
      "    shift_y = primary.loc[overlap[0]].y\n",
      "    recenter(None, primary, -shift_x, -shift_y)\n",
      "    recenter(secondary_fp, secondary, -shift_x, -shift_y)\n",
      "    \n",
      "    #Normal equation: Ax = y ->  Ax'x = x'y ->  A = (x'x)^-1 x'y\n",
      "    X = secondary.loc[overlap, ['x', 'y']].values\n",
      "    Y = primary.loc[overlap, ['x', 'y']].values\n",
      "    transform = np.dot(np.linalg.inv(np.dot(X.transpose(), X)), np.dot(X.transpose(), Y))\n",
      "    secondary[['x', 'y']] = np.dot(transform, secondary[['x', 'y']].values.transpose()).transpose()\n",
      "    #Need to rotate fixed points as well\n",
      "    fp_array = np.dot(transform, fp_to_array(secondary_fp))\n",
      "    fp_from_array(secondary_fp, fp_array)\n",
      "    recenter(None, primary, shift_x, shift_y)\n",
      "    recenter(secondary_fp, secondary, shift_x, shift_y)\n",
      "    return primary, secondary, secondary_fp #Not sure these need to be returned - all passed by reference?\n",
      "    \n",
      "    \n"
     ],
     "language": "python",
     "metadata": {},
     "outputs": [],
     "prompt_number": 217
    },
    {
     "cell_type": "code",
     "collapsed": false,
     "input": [
      "c0, c1, fp1 = align_cohorts(cohorts[0], cohorts[3], fps[-1])"
     ],
     "language": "python",
     "metadata": {},
     "outputs": [],
     "prompt_number": 235
    },
    {
     "cell_type": "code",
     "collapsed": false,
     "input": [
      "print cohorts[0].tail()\n",
      "print cohorts[3].tail()\n",
      "print fps[0]\n",
      "print fps[-1]"
     ],
     "language": "python",
     "metadata": {},
     "outputs": [
      {
       "output_type": "stream",
       "stream": "stdout",
       "text": [
        "    Horizontal_Distance_To_Fire_Points  Horizontal_Distance_To_Hydrology  \\\n",
        "52                         1480.656286                       1977.143496   \n",
        "55                         2026.651072                       1939.330037   \n",
        "59                         2012.017748                       2461.978216   \n",
        "60                         1306.353576                       3000.474206   \n",
        "63                         1838.479642                       2603.456082   \n",
        "\n",
        "    Horizontal_Distance_To_Roadways            x            y  \n",
        "52                       533.485686 -1246.935477   797.818086  \n",
        "55                       601.469413 -1795.712386   940.129968  \n",
        "59                       136.251516 -1448.663444  1396.056413  \n",
        "60                      1168.176438  -165.501002  1295.765792  \n",
        "63                       220.565705 -1144.691328  1438.878639  \n",
        "\n",
        "[5 rows x 5 columns]\n",
        "    Horizontal_Distance_To_Fire_Points  Horizontal_Distance_To_Hydrology  \\\n",
        "55                         2026.651072                       1939.330037   \n",
        "56                         1827.100736                       1237.753580   \n",
        "58                         3078.601611                       2584.589832   \n",
        "59                         2012.017748                       2461.978216   \n",
        "61                         2766.091625                       2116.814133   \n",
        "\n",
        "    Horizontal_Distance_To_Roadways            x            y  \n",
        "55                       601.469413 -1795.838641   940.134406  \n",
        "56                      1198.884219 -1815.397245   224.445814  \n",
        "58                      1341.156381 -2654.311356  1564.391072  \n",
        "59                       136.251516 -1449.252285  1396.436684  \n",
        "61                      1220.543009 -2535.648839  1109.875681  \n",
        "\n",
        "[5 rows x 5 columns]\n",
        "{'fire': {'y': 0.0, 'x': 0.0}, 'water': {'y': -969.2352905313079, 'x': -2133.5341139724023}, 'road': {'y': 1324.0922159285251, 'x': -1333.1671557717514}}\n",
        "{'fire': {'y': -6.0392130312066001, 'x': -0.30211488342752091}, 'water': {'y': -975.57582670916145, 'x': -2135.5423747646873}, 'road': {'y': 1325.8347794872852, 'x': -1332.7157235709874}}\n"
       ]
      }
     ],
     "prompt_number": 236
    },
    {
     "cell_type": "code",
     "collapsed": false,
     "input": [
      "#print cohorts[0].head()\n",
      "#print cohorts[1].head()\n",
      "#print fps[0]\n",
      "#print fps[1]\n",
      "tojoin = cohorts[3].index - cohorts[0].index\n",
      "joined = pd.concat([cohorts[0], cohorts[3].loc[tojoin]])\n",
      "print len(joined)\n",
      "print joined.head()"
     ],
     "language": "python",
     "metadata": {},
     "outputs": [
      {
       "output_type": "stream",
       "stream": "stdout",
       "text": [
        "49\n",
        "    Horizontal_Distance_To_Fire_Points  Horizontal_Distance_To_Hydrology  \\\n",
        "1                          1789.093270                       3575.476087   \n",
        "3                          1953.630324                       2845.573347   \n",
        "6                          1966.398553                       1949.567348   \n",
        "7                          1202.287754                       1335.089317   \n",
        "12                          720.964701                       2155.215229   \n",
        "\n",
        "    Horizontal_Distance_To_Roadways            x            y  \n",
        "1                       1551.774844   148.400830  1783.436917  \n",
        "3                        444.987195 -1036.797307  1656.139438  \n",
        "6                        553.469342 -1728.787150   937.500662  \n",
        "7                       1343.024986 -1202.014429   -12.874925  \n",
        "12                      1159.960055  -538.240280   479.393379  \n",
        "\n",
        "[5 rows x 5 columns]\n"
       ]
      }
     ],
     "prompt_number": 237
    },
    {
     "cell_type": "code",
     "collapsed": false,
     "input": [
      "cohort = cohorts[3]\n",
      "print len(cohort)\n",
      "p, fp, costs = automated_iteration(cohort, n=500, alpha=1)"
     ],
     "language": "python",
     "metadata": {},
     "outputs": [
      {
       "output_type": "stream",
       "stream": "stdout",
       "text": [
        "35\n",
        "initializing points\n",
        "Breaking off since cost (0.438) is less than threshold value (0.5)"
       ]
      },
      {
       "output_type": "stream",
       "stream": "stdout",
       "text": [
        "\n",
        "Best jiggles [0, 0, 0]\n",
        "Loop count 1, total iterations 500\n",
        "Adjustment count 0\n"
       ]
      }
     ],
     "prompt_number": 233
    },
    {
     "cell_type": "code",
     "collapsed": false,
     "input": [
      "cohort['x'] = p.x.values\n",
      "cohort['y'] = p.y.values\n",
      "fps.append(fp)"
     ],
     "language": "python",
     "metadata": {},
     "outputs": [],
     "prompt_number": 234
    },
    {
     "cell_type": "code",
     "collapsed": false,
     "input": [
      "#Recenter for ease of comparing plots\n",
      "recenter(fixed_points, points, -fixed_points['fire']['x'], -fixed_points['fire']['y'])\n",
      "recenter(fp, p, -fp['fire']['x'], -fp['fire']['y'])"
     ],
     "language": "python",
     "metadata": {},
     "outputs": [],
     "prompt_number": 220
    },
    {
     "cell_type": "code",
     "collapsed": false,
     "input": [
      "compare_plots(points, cohorts[0], fixed_points, fps[0], 1.2*np.pi/6 + np.pi, \"\")\n",
      "compare_plots(points, joined[['x', 'y']], fixed_points, fps[-1], 1.2*np.pi/6 + np.pi, \"\")"
     ],
     "language": "python",
     "metadata": {},
     "outputs": [
      {
       "metadata": {},
       "output_type": "display_data",
       "png": "[encoded data removed]",
       "text": [
        "<matplotlib.figure.Figure at 0x7fcd7c2aaa50>"
       ]
      },
      {
       "metadata": {},
       "output_type": "display_data",
       "png": "[encoded data removed]",
       "text": [
        "<matplotlib.figure.Figure at 0x7fcd7c3b9610>"
       ]
      }
     ],
     "prompt_number": 240
    },
    {
     "cell_type": "code",
     "collapsed": false,
     "input": [
      "print fp\n",
      "print np.sqrt((fp['fire']['x'] - fp['water']['x'])**2 + (fp['fire']['y'] - fp['water']['y'])**2)\n",
      "print np.sqrt((fp['fire']['x'] - fp['road']['x'])**2 + (fp['fire']['y'] - fp['road']['y'])**2)\n",
      "print np.sqrt((fp['road']['x'] - fp['water']['x'])**2 + (fp['road']['y'] - fp['water']['y'])**2)"
     ],
     "language": "python",
     "metadata": {},
     "outputs": [
      {
       "output_type": "stream",
       "stream": "stdout",
       "text": [
        "{'fire': {'y': 0.0, 'x': 0.0}, 'water': {'y': 4.2876256985175303, 'x': -1397.8747991320349}, 'road': {'y': 1150.0117906913829, 'x': 248.42832644748432}}\n",
        "1397.88137472\n",
        "1176.53888678\n",
        "2005.74122048\n"
       ]
      }
     ],
     "prompt_number": 292
    }
   ],
   "metadata": {}
  }
 ]
}