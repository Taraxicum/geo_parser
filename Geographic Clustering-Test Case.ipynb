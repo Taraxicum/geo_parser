{
 "metadata": {
  "name": ""
 },
 "nbformat": 3,
 "nbformat_minor": 0,
 "worksheets": [
  {
   "cells": [
    {
     "cell_type": "heading",
     "level": 3,
     "metadata": {},
     "source": [
      "Includes"
     ]
    },
    {
     "cell_type": "code",
     "collapsed": false,
     "input": [
      "import numpy as np\n",
      "import pandas as pd\n",
      "import matplotlib.pyplot as plt\n",
      "%matplotlib inline"
     ],
     "language": "python",
     "metadata": {},
     "outputs": [],
     "prompt_number": 1
    },
    {
     "cell_type": "heading",
     "level": 2,
     "metadata": {},
     "source": [
      "Gradient Descent Functions"
     ]
    },
    {
     "cell_type": "code",
     "collapsed": false,
     "input": [
      "def cost(cohort, points, fixed_points):\n",
      "    #cohort of points we are trying to map to a 2d representation that fits the data\n",
      "    #points are the x, y coordinates of the hypothesized points (should be len(cohort) of them)\n",
      "    #fixed_points x, y coordinates of the hypothesized fire, water, road locations\n",
      "    #This is not the exact same cost function the derivative of the cost function uses - this \n",
      "    #  one uses square root to make the values a little easier to think of as an average error\n",
      "    #  but would unnecessarily complicate the derivative\n",
      "    \n",
      "    fire_d = np.sqrt((dist(points, fixed_points['fire']) - cohort.Horizontal_Distance_To_Fire_Points.values)**2)\n",
      "    water_d = np.sqrt((dist(points, fixed_points['water']) - cohort.Horizontal_Distance_To_Hydrology.values)**2)\n",
      "    road_d = np.sqrt((dist(points, fixed_points['road']) - cohort.Horizontal_Distance_To_Roadways.values)**2)\n",
      "    return 1.0/(2*len(cohort))*(fire_d.sum() + water_d.sum() + road_d.sum())\n",
      "\n",
      "def dist(points, fp):\n",
      "    #Distance between points and fixed point (fire, water, road).\n",
      "    #points: should be a DataFrame \n",
      "    #fp: should be a dict of a single of the fixed points e.g. {fire: {'x':1, 'y':2}}\n",
      "    return np.sqrt((points.x - fp['x'])**2 + (points.y - fp['y'])**2)\n",
      "\n",
      "def partial(cohort_d, points, fp):\n",
      "    #Finds the partial derivative of the part of the cost function relating to the fixed point fp\n",
      "    #cohort_d: Series containing the true distances of the points to the true fixed point\n",
      "    #points:  DataFrame of the hypothesized points\n",
      "    #fp:  dict of a single of the hypothesized fixed points e.g. {fire: {'x':1, 'y':2}}\n",
      "    distances = dist(points, fp)\n",
      "    differences = distances - cohort_d.values\n",
      "    main_partial = (differences/distances)\n",
      "    partial_x = main_partial*2*(points.x - fp['x'])\n",
      "    partial_y = main_partial*2*(points.y - fp['y'])\n",
      "    return partial_x, partial_y\n",
      "    \n",
      "def cost_deriv(cohort, points, fixed_points):\n",
      "    #Returns the partial derivatives of the cost function relative to the hypothesized x, y and fixed points\n",
      "    #cohort:  DataFrame of the true distances\n",
      "    #points:  DataFrame of the hypothesized x,y coordinates\n",
      "    #fixed_points:  dict of the fixed points (fire, water, road)\n",
      "    fixed = {}\n",
      "    f_p_x, f_p_y = partial(cohort.Horizontal_Distance_To_Fire_Points, points, fixed_points['fire'])\n",
      "    fixed['fire'] = {'x': -f_p_x.sum(), 'y': -f_p_y.sum()}\n",
      "    w_p_x, w_p_y = partial(cohort.Horizontal_Distance_To_Hydrology, points, fixed_points['water'])\n",
      "    fixed['water'] = {'x': -w_p_x.sum(), 'y': -w_p_y.sum()}\n",
      "    r_p_x, r_p_y = partial(cohort.Horizontal_Distance_To_Roadways, points, fixed_points['road'])\n",
      "    fixed['road'] = {'x': -r_p_x.sum(), 'y': -r_p_y.sum()}\n",
      "    partial_x = 1.0/(2*len(cohort))*(f_p_x + w_p_x + r_p_x)\n",
      "    partial_y = 1.0/(2*len(cohort))*(f_p_y + w_p_y + r_p_y)\n",
      "    return partial_x, partial_y, fixed\n",
      "    "
     ],
     "language": "python",
     "metadata": {},
     "outputs": [],
     "prompt_number": 2
    },
    {
     "cell_type": "code",
     "collapsed": false,
     "input": [
      "def init_points(cohort):\n",
      "    #Initializes set of hypothesized points and fixed points for iterating our gradient descent algorithm\n",
      "    #cohort:  DataFrame containing the true distances of the points to the fixed points\n",
      "    points = pd.DataFrame(100*np.random.randn(len(cohort), 2), columns=['x', 'y'])\n",
      "    vals = 1000*np.random.randn(6)\n",
      "    fixed_points = {'fire': {'x': vals[0], 'y':vals[1]}, 'water': {'x': vals[2], 'y':vals[3]}, \n",
      "                    'road': {'x': vals[4], 'y':vals[5]}}\n",
      "    return points, fixed_points"
     ],
     "language": "python",
     "metadata": {},
     "outputs": [],
     "prompt_number": 3
    },
    {
     "cell_type": "code",
     "collapsed": false,
     "input": [
      "def update_values(points, fixed_points, alpha, x_update, y_update, fp_update):\n",
      "    #Performs the basic arithmetic to update the values of the hypothesized points and fixed_points\n",
      "    #points:  DataFrame of hypothesized x, y coordinates\n",
      "    #fixed_points:  dict of hypothesized fixed_point coordinates\n",
      "    #alpha:  learning rate (a scalar)\n",
      "    #*_update:  values to update *-coordinates with\n",
      "    points.x = points.x - alpha*x_update\n",
      "    points.y = points.y - alpha*y_update\n",
      "    fixed_points['fire']['x'] = fixed_points['fire']['x'] - alpha*fp_update['fire']['x']\n",
      "    fixed_points['fire']['y'] = fixed_points['fire']['y'] - alpha*fp_update['fire']['y']\n",
      "    fixed_points['water']['x'] = fixed_points['water']['x'] - alpha*fp_update['water']['x']\n",
      "    fixed_points['water']['y'] = fixed_points['water']['y'] - alpha*fp_update['water']['y']\n",
      "    fixed_points['road']['x'] = fixed_points['road']['x'] - alpha*fp_update['road']['x']\n",
      "    fixed_points['road']['y'] = fixed_points['road']['y'] - alpha*fp_update['road']['y']\n",
      "    return points, fixed_points\n",
      "\n",
      "def iterate_hypothesis(n, cohort, alpha=.02, p=None, fp=None):\n",
      "    #Iterates the gradient descent algorithm\n",
      "    #Prints out cost of the hypothesized coordinates at intervals throughout the iteration\n",
      "    #Returns p, fp that have resulted at end of n iterations\n",
      "    #n:  Number of iterations (integer)\n",
      "    #cohort:  DataFrame containing true distances of points from fixed points\n",
      "    #alpha:  learning rate (positive real number\n",
      "    #p:  DataFrame of hypothesized x, y coordinates.  Will initialize to random values if not supplied\n",
      "    #fp: DataFrame of hypothesized fixed point coordinates.  Will initialize to random values if not supplied\n",
      "    if p is None or fp is None:\n",
      "        print \"initializing points\"\n",
      "        p, fp = init_points(cohort)\n",
      "    print \"Initial cost {:.2f}\".format(cost(cohort, p, fp))\n",
      "    digit_size = int(np.log10(n))\n",
      "    print_mod = 10**(digit_size-1)\n",
      "    for i in range(n):\n",
      "        px, py, pfix = cost_deriv(cohort, p, fp)\n",
      "        p, fp = update_values(p, fp, alpha, px, py, pfix)\n",
      "        \n",
      "        if (i+1)%print_mod == 0:\n",
      "            c = cost(cohort, p, fp)\n",
      "            print \"Iteration {}: cost {:.2f}, digit count {}\".format(i+1, c, int(np.log10(c+1)+1))\n",
      "    return p, fp"
     ],
     "language": "python",
     "metadata": {},
     "outputs": [],
     "prompt_number": 4
    },
    {
     "cell_type": "heading",
     "level": 3,
     "metadata": {},
     "source": [
      "Fake data test:"
     ]
    },
    {
     "cell_type": "code",
     "collapsed": false,
     "input": [
      "def find_distances(points, fixed_points):\n",
      "    #Given points and fixed_points will return a DataFrame containing the distances from the points to the fixed points\n",
      "    #This is intended to build a DataFrame with values similar to what we get from the kaggle competition from\n",
      "    #  the points and fixed_point coordinates that we generated for testing\n",
      "    #points:  DataFrame of x, y coordinates\n",
      "    #fixed_points:  dict of fixed point coordinates (fire, water, road)\n",
      "    df = pd.DataFrame(np.zeros((len(points), 3)), columns=['Horizontal_Distance_To_Fire_Points',\n",
      "                                                           'Horizontal_Distance_To_Hydrology',\n",
      "                                                           'Horizontal_Distance_To_Roadways'])\n",
      "    df['Horizontal_Distance_To_Fire_Points'] = np.sqrt((points.x - fixed_points['fire']['x'])**2 + \n",
      "                                                       (points.y - fixed_points['fire']['y'])**2)\n",
      "    df['Horizontal_Distance_To_Hydrology'] = np.sqrt((points.x - fixed_points['water']['x'])**2 + \n",
      "                                                     (points.y - fixed_points['water']['y'])**2)\n",
      "    df['Horizontal_Distance_To_Roadways'] = np.sqrt((points.x - fixed_points['road']['x'])**2 + \n",
      "                                                    (points.y - fixed_points['road']['y'])**2)\n",
      "    return df"
     ],
     "language": "python",
     "metadata": {},
     "outputs": [],
     "prompt_number": 5
    },
    {
     "cell_type": "code",
     "collapsed": false,
     "input": [
      "def examine_results(cohort, p, fp):\n",
      "    #cohort is original data set, p is hypothesized points, fp is hypothesized fire, water, road points\n",
      "    #prints out the difference between the hypothesized distances and true distances \n",
      "    #  between each point and the fixed points rounded to integer\n",
      "    for i in range(min(len(p), 20)):\n",
      "        fire_d = np.sqrt((p.x.iloc[i] - fp['fire']['x'])**2 + (p.y.iloc[i] - fp['fire']['y'])**2)\n",
      "        water_d = np.sqrt((p.x.iloc[i] - fp['water']['x'])**2 + (p.y.iloc[i] - fp['water']['y'])**2)\n",
      "        road_d = np.sqrt((p.x.iloc[i] - fp['road']['x'])**2 + (p.y.iloc[i] - fp['road']['y'])**2)\n",
      "        true_f = cohort.Horizontal_Distance_To_Fire_Points.iloc[i]\n",
      "        true_w = cohort.Horizontal_Distance_To_Hydrology.iloc[i]\n",
      "        true_r = cohort.Horizontal_Distance_To_Roadways.iloc[i]\n",
      "        print \"i={} - fire: {:.0f}, water: {:.0f}, road {:.0f}\".format(i, fire_d-true_f, water_d-true_w, road_d-true_r)"
     ],
     "language": "python",
     "metadata": {},
     "outputs": [],
     "prompt_number": 6
    },
    {
     "cell_type": "code",
     "collapsed": false,
     "input": [
      "def plot_results(true_points, hyp_points, true_fixed_points, hyp_fixed_points, inc_true=True, inc_hyp=True):\n",
      "    #Plot the hypothesized points and fixed points as well as the true points and fixed points.\n",
      "    #  The true values will plot as circles, the hypothesized as x.\n",
      "    #  The fixed points will be larger with same shape scheme and red for fire, blue for water, black for road\n",
      "    if inc_true:\n",
      "        plt.scatter(true_points.x, true_points.y, c=range(0, len(hyp_points)), marker='o')\n",
      "        plt.scatter([true_fixed_points['fire']['x']], [true_fixed_points['fire']['y']], c='red', s=150)\n",
      "        plt.scatter([true_fixed_points['water']['x']], [true_fixed_points['water']['y']], c='blue', s=150)\n",
      "        plt.scatter([true_fixed_points['road']['x']], [true_fixed_points['road']['y']], c='black', s=150)\n",
      "    if inc_hyp:\n",
      "        plt.scatter(hyp_points.x, hyp_points.y, c=range(0, len(hyp_points)), marker='x')\n",
      "        plt.scatter([hyp_fixed_points['fire']['x']], [hyp_fixed_points['fire']['y']], c='red', marker='x', s=150)\n",
      "        plt.scatter([hyp_fixed_points['water']['x']], [hyp_fixed_points['water']['y']], c='blue', marker='x', s=150)\n",
      "        plt.scatter([hyp_fixed_points['road']['x']], [hyp_fixed_points['road']['y']], c='black', marker='x', s=150)\n",
      "\n",
      "    plt.show()\n"
     ],
     "language": "python",
     "metadata": {},
     "outputs": [],
     "prompt_number": 81
    },
    {
     "cell_type": "code",
     "collapsed": false,
     "input": [
      "#Create a set of 'true' coordinates for a test set of points and fixed_points then generate the DataFrame\n",
      "#  containing the distances of the points to the fixed points\n",
      "points = pd.DataFrame(1000*np.random.randn(16, 2), columns=['x', 'y'])\n",
      "print points.head()\n",
      "vals = 1000*np.random.randn(6)\n",
      "fixed_points = {'fire': {'x': vals[0], 'y': vals[1]}, 'water': {'x': vals[2], 'y': vals[3]},\n",
      "                'road': {'x': vals[4], 'y': vals[5]}}\n",
      "df = find_distances(points, fixed_points)\n",
      "print fixed_points"
     ],
     "language": "python",
     "metadata": {},
     "outputs": [
      {
       "output_type": "stream",
       "stream": "stdout",
       "text": [
        "             x            y\n",
        "0  -335.016640  -182.782919\n",
        "1  1991.855427  -455.975854\n",
        "2   317.941688 -1390.557649\n",
        "3 -1301.037150  -200.415425\n",
        "4  1564.462102  -280.719835\n",
        "\n",
        "[5 rows x 2 columns]\n",
        "{'fire': {'y': 212.53903499711313, 'x': 533.47310608976636}, 'water': {'y': 1167.9999101526428, 'x': -336.39264814999711}, 'road': {'y': 218.15211395589523, 'x': 558.92891533650049}}\n"
       ]
      }
     ],
     "prompt_number": 8
    },
    {
     "cell_type": "code",
     "collapsed": false,
     "input": [
      "p, fp = iterate_hypothesis(10000, df, .03, p, fp)"
     ],
     "language": "python",
     "metadata": {},
     "outputs": [
      {
       "output_type": "stream",
       "stream": "stdout",
       "text": [
        "Initial cost 20.82\n",
        "Iteration 1000: cost 3.99, digit count 1"
       ]
      },
      {
       "output_type": "stream",
       "stream": "stdout",
       "text": [
        "\n",
        "Iteration 2000: cost 3.69, digit count 1"
       ]
      },
      {
       "output_type": "stream",
       "stream": "stdout",
       "text": [
        "\n",
        "Iteration 3000: cost 3.58, digit count 1"
       ]
      },
      {
       "output_type": "stream",
       "stream": "stdout",
       "text": [
        "\n",
        "Iteration 4000: cost 3.55, digit count 1"
       ]
      },
      {
       "output_type": "stream",
       "stream": "stdout",
       "text": [
        "\n",
        "Iteration 5000: cost 3.53, digit count 1"
       ]
      },
      {
       "output_type": "stream",
       "stream": "stdout",
       "text": [
        "\n",
        "Iteration 6000: cost 3.51, digit count 1"
       ]
      },
      {
       "output_type": "stream",
       "stream": "stdout",
       "text": [
        "\n",
        "Iteration 7000: cost 3.51, digit count 1"
       ]
      },
      {
       "output_type": "stream",
       "stream": "stdout",
       "text": [
        "\n",
        "Iteration 8000: cost 3.50, digit count 1"
       ]
      },
      {
       "output_type": "stream",
       "stream": "stdout",
       "text": [
        "\n",
        "Iteration 9000: cost 3.49, digit count 1"
       ]
      },
      {
       "output_type": "stream",
       "stream": "stdout",
       "text": [
        "\n",
        "Iteration 10000: cost 3.49, digit count 1"
       ]
      },
      {
       "output_type": "stream",
       "stream": "stdout",
       "text": [
        "\n"
       ]
      }
     ],
     "prompt_number": 36
    },
    {
     "cell_type": "code",
     "collapsed": false,
     "input": [
      "examine_results(df, p, fp)"
     ],
     "language": "python",
     "metadata": {},
     "outputs": [
      {
       "output_type": "stream",
       "stream": "stdout",
       "text": [
        "i=0 - fire: 0, water: -0, road -0\n",
        "i=1 - fire: -4, water: 0, road 4\n",
        "i=2 - fire: 5, water: -0, road -4\n",
        "i=3 - fire: -1, water: -0, road 1\n",
        "i=4 - fire: -4, water: 1, road 4\n",
        "i=5 - fire: 1, water: -0, road -1\n",
        "i=6 - fire: -2, water: -1, road 1\n",
        "i=7 - fire: 2, water: -0, road -2\n",
        "i=8 - fire: 3, water: -0, road -3\n",
        "i=9 - fire: 4, water: -0, road -4\n",
        "i=10 - fire: 0, water: -0, road -0\n",
        "i=11 - fire: 3, water: -0, road -3\n",
        "i=12 - fire: 4, water: -0, road -4\n",
        "i=13 - fire: 4, water: -0, road -4\n",
        "i=14 - fire: -18, water: 1, road 18\n",
        "i=15 - fire: 0, water: 0, road -0\n"
       ]
      }
     ],
     "prompt_number": 37
    },
    {
     "cell_type": "code",
     "collapsed": false,
     "input": [
      "print p.loc[14]\n",
      "#p.loc[14, 'y'] = 0\n",
      "#p.loc[14, 'x'] = 0\n",
      "print p.loc[14]"
     ],
     "language": "python",
     "metadata": {},
     "outputs": [
      {
       "output_type": "stream",
       "stream": "stdout",
       "text": [
        "x     49.638848\n",
        "y   -205.742271\n",
        "Name: 14, dtype: float64\n",
        "x    0\n",
        "y    0\n",
        "Name: 14, dtype: float64\n"
       ]
      }
     ],
     "prompt_number": 35
    },
    {
     "cell_type": "code",
     "collapsed": false,
     "input": [
      "p, fp = iterate_hypothesis(10000, df, .05, p, fp)"
     ],
     "language": "python",
     "metadata": {},
     "outputs": [
      {
       "output_type": "stream",
       "stream": "stdout",
       "text": [
        "Initial cost 2.71\n",
        "Iteration 1000: cost 2.22, digit count 1"
       ]
      },
      {
       "output_type": "stream",
       "stream": "stdout",
       "text": [
        "\n",
        "Iteration 2000: cost 1.82, digit count 1"
       ]
      },
      {
       "output_type": "stream",
       "stream": "stdout",
       "text": [
        "\n",
        "Iteration 3000: cost 1.49, digit count 1"
       ]
      },
      {
       "output_type": "stream",
       "stream": "stdout",
       "text": [
        "\n",
        "Iteration 4000: cost 1.23, digit count 1"
       ]
      },
      {
       "output_type": "stream",
       "stream": "stdout",
       "text": [
        "\n",
        "Iteration 5000: cost 1.01, digit count 1"
       ]
      },
      {
       "output_type": "stream",
       "stream": "stdout",
       "text": [
        "\n",
        "Iteration 6000: cost 0.83, digit count 1"
       ]
      },
      {
       "output_type": "stream",
       "stream": "stdout",
       "text": [
        "\n",
        "Iteration 7000: cost 0.68, digit count 1"
       ]
      },
      {
       "output_type": "stream",
       "stream": "stdout",
       "text": [
        "\n",
        "Iteration 8000: cost 0.56, digit count 1"
       ]
      },
      {
       "output_type": "stream",
       "stream": "stdout",
       "text": [
        "\n",
        "Iteration 9000: cost 0.46, digit count 1"
       ]
      },
      {
       "output_type": "stream",
       "stream": "stdout",
       "text": [
        "\n",
        "Iteration 10000: cost 0.38, digit count 1"
       ]
      },
      {
       "output_type": "stream",
       "stream": "stdout",
       "text": [
        "\n"
       ]
      }
     ],
     "prompt_number": 49
    },
    {
     "cell_type": "code",
     "collapsed": false,
     "input": [
      "plt.scatter(transformed[0, :], transformed[1, :], c=range(0, len(transformed[0, :])), marker='x')\n",
      "plt.scatter([t_fp[0,0]], [t_fp[1,0]], c='red', marker='x', s=150)\n",
      "plt.scatter([t_fp[0,1]], [t_fp[1,1]], c='blue', marker='x', s=150)\n",
      "plt.scatter([t_fp[0,2]], [t_fp[1,2]], c='black', marker='x', s=150)\n"
     ],
     "language": "python",
     "metadata": {},
     "outputs": [
      {
       "metadata": {},
       "output_type": "pyout",
       "prompt_number": 79,
       "text": [
        "<matplotlib.collections.PathCollection at 0x7f0e53447310>"
       ]
      },
      {
       "metadata": {},
       "output_type": "display_data",
       "png": "[encoded data removed]",
       "text": [
        "<matplotlib.figure.Figure at 0x7f0e534c5890>"
       ]
      }
     ],
     "prompt_number": 79
    },
    {
     "cell_type": "code",
     "collapsed": false,
     "input": [
      "plot_results(points, p, fixed_points, fp, inc_true=False)"
     ],
     "language": "python",
     "metadata": {},
     "outputs": [
      {
       "metadata": {},
       "output_type": "display_data",
       "png": "[encoded data removed]",
       "text": [
        "<matplotlib.figure.Figure at 0x7f0e53691a90>"
       ]
      }
     ],
     "prompt_number": 86
    },
    {
     "cell_type": "code",
     "collapsed": false,
     "input": [
      "plot_results(points, p, fixed_points, fp, inc_hyp=False)"
     ],
     "language": "python",
     "metadata": {},
     "outputs": [
      {
       "metadata": {},
       "output_type": "display_data",
       "png": "[encoded data removed]",
       "text": [
        "<matplotlib.figure.Figure at 0x7f0e53544410>"
       ]
      }
     ],
     "prompt_number": 82
    },
    {
     "cell_type": "code",
     "collapsed": false,
     "input": [
      "#Find rotation and rotate hypothesized points so they overlay true points as much as possible?\n",
      "#fixed_points are the true locations, fp are the hypothesized locations.\n",
      "#want to find the affine transformation that maps from hypothesized to true.\n",
      "#i.e. T*fp = fixed_points.  So T = fixed_points*inv(fp)\n",
      "#Exact transformation of fixed points not working great - some sort of best fit probably more appropriate\n",
      "A = np.zeros((3,3))\n",
      "B = np.zeros((3,3))\n",
      "A[0, 0] = fp['fire']['x']\n",
      "A[1, 0] = fp['fire']['y']\n",
      "A[2, :] = 1\n",
      "A[0, 1] = fp['water']['x']\n",
      "A[1, 1] = fp['water']['y']\n",
      "A[0, 2] = fp['road']['x']\n",
      "A[1, 2] = fp['road']['y']\n",
      "\n",
      "B[0, 0] = fixed_points['fire']['x']\n",
      "B[1, 0] = fixed_points['fire']['y']\n",
      "B[2, :] = 1\n",
      "B[0, 1] = fixed_points['water']['x']\n",
      "B[1, 1] = fixed_points['water']['y']\n",
      "B[0, 2] = fixed_points['road']['x']\n",
      "B[1, 2] = fixed_points['road']['y']\n",
      "\n",
      "T = np.dot(B, np.linalg.inv(A))\n",
      "\n"
     ],
     "language": "python",
     "metadata": {},
     "outputs": [
      {
       "output_type": "stream",
       "stream": "stdout",
       "text": [
        "[[  9.71968063e+01   1.38203550e+03   6.96443046e+01]\n",
        " [ -9.51392683e+02  -1.25755776e+03  -9.63440441e+02]\n",
        " [  1.00000000e+00   1.00000000e+00   1.00000000e+00]]\n",
        "[[  5.33473106e+02  -3.36392648e+02   5.58928915e+02]\n",
        " [  2.12539035e+02   1.16799991e+03   2.18152114e+02]\n",
        " [  1.00000000e+00   1.00000000e+00   1.00000000e+00]]\n",
        "[[ -7.64105448e-01  -3.65444992e-01   2.60060024e+02]\n",
        " [  4.09475903e-01  -1.40234933e+00  -1.16144561e+03]\n",
        " [ -1.73472348e-18   0.00000000e+00   1.00000000e+00]]\n",
        "[[  5.33473106e+02  -3.36392648e+02   5.58928915e+02]\n",
        " [  2.12539035e+02   1.16799991e+03   2.18152114e+02]\n",
        " [  1.00000000e+00   1.00000000e+00   1.00000000e+00]]\n"
       ]
      }
     ],
     "prompt_number": 59
    },
    {
     "cell_type": "code",
     "collapsed": false,
     "input": [
      "transformed =  np.dot(T, p[['x', 'y', '1']].values.transpose())\n",
      "t_fp = np.dot(T, A)"
     ],
     "language": "python",
     "metadata": {},
     "outputs": [],
     "prompt_number": 75
    },
    {
     "cell_type": "code",
     "collapsed": false,
     "input": [
      "print t_fp\n",
      "print B"
     ],
     "language": "python",
     "metadata": {},
     "outputs": [
      {
       "output_type": "stream",
       "stream": "stdout",
       "text": [
        "[[  5.33473106e+02  -3.36392648e+02   5.58928915e+02]\n",
        " [  2.12539035e+02   1.16799991e+03   2.18152114e+02]\n",
        " [  1.00000000e+00   1.00000000e+00   1.00000000e+00]]\n",
        "[[  5.33473106e+02  -3.36392648e+02   5.58928915e+02]\n",
        " [  2.12539035e+02   1.16799991e+03   2.18152114e+02]\n",
        " [  1.00000000e+00   1.00000000e+00   1.00000000e+00]]\n"
       ]
      }
     ],
     "prompt_number": 78
    }
   ],
   "metadata": {}
  }
 ]
}