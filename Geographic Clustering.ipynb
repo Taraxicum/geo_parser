{
 "metadata": {
  "name": ""
 },
 "nbformat": 3,
 "nbformat_minor": 0,
 "worksheets": [
  {
   "cells": [
    {
     "cell_type": "code",
     "collapsed": false,
     "input": [
      "import numpy as np\n",
      "import pandas as pd\n",
      "import matplotlib.pyplot as plt\n",
      "%matplotlib inline\n",
      "\n",
      "train = pd.read_csv(\"train_condense_wild_soil.csv\")\n",
      "#test = pd.read_csv(\"test.csv\")"
     ],
     "language": "python",
     "metadata": {},
     "outputs": [],
     "prompt_number": 27
    },
    {
     "cell_type": "code",
     "collapsed": false,
     "input": [
      "train.columns"
     ],
     "language": "python",
     "metadata": {},
     "outputs": [
      {
       "metadata": {},
       "output_type": "pyout",
       "prompt_number": 21,
       "text": [
        "Index([u'Id', u'Elevation', u'Aspect', u'Slope', u'Horizontal_Distance_To_Hydrology', u'Vertical_Distance_To_Hydrology', u'Horizontal_Distance_To_Roadways', u'Hillshade_9am', u'Hillshade_Noon', u'Hillshade_3pm', u'Horizontal_Distance_To_Fire_Points', u'Wilderness_Area', u'Soil_type', u'Cover_Type'], dtype='object')"
       ]
      }
     ],
     "prompt_number": 21
    },
    {
     "cell_type": "code",
     "collapsed": false,
     "input": [
      "#pick a starting point to find a cohort of\n",
      "p = train.iloc[2345]\n",
      "\n",
      "print train[(train.Wilderness_Area == p.Wilderness_Area)  & \n",
      "      (train.Elevation - train.Vertical_Distance_To_Hydrology == \n",
      "       p.Elevation - p.Vertical_Distance_To_Hydrology)]"
     ],
     "language": "python",
     "metadata": {},
     "outputs": [
      {
       "output_type": "stream",
       "stream": "stdout",
       "text": [
        "          Id  Elevation  Aspect  Slope  Horizontal_Distance_To_Hydrology  \\\n",
        "275      276       2785     315      2                                60   \n",
        "2302    2303       2816     105      8                               242   \n",
        "2303    2304       2800     114     15                               240   \n",
        "2304    2305       2792     107     16                               240   \n",
        "2345    2346       2811     108     10                               182   \n",
        "2346    2347       2795      97     10                               180   \n",
        "2366    2367       2810      89     11                               153   \n",
        "2386    2387       2828      82      7                               170   \n",
        "2387    2388       2792     119     12                               120   \n",
        "2410    2411       2809     122     15                                95   \n",
        "2434    2435       2796     130     16                                60   \n",
        "12111  12112       2814     120     10                               212   \n",
        "12130  12131       2811      96     12                               124   \n",
        "\n",
        "       Vertical_Distance_To_Hydrology  Horizontal_Distance_To_Roadways  \\\n",
        "275                                -2                             2486   \n",
        "2302                               29                              626   \n",
        "2303                               13                              541   \n",
        "2304                                5                              513   \n",
        "2345                               24                              646   \n",
        "2346                                8                              564   \n",
        "2366                               23                              658   \n",
        "2386                               41                              750   \n",
        "2387                                5                              570   \n",
        "2410                               22                              660   \n",
        "2434                                9                              630   \n",
        "12111                              27                              636   \n",
        "12130                              24                              660   \n",
        "\n",
        "       Hillshade_9am  Hillshade_Noon  Hillshade_3pm  \\\n",
        "275              214             237            161   \n",
        "2302             234             230            128   \n",
        "2303             244             224            106   \n",
        "2304             245             220             99   \n",
        "2345             238             228            120   \n",
        "2346             237             225            119   \n",
        "2366             236             223            117   \n",
        "2386             230             228            130   \n",
        "2387             241             229            117   \n",
        "2410             244             227            109   \n",
        "2434             244             229            109   \n",
        "12111            238             232            124   \n",
        "12130            239             223            113   \n",
        "\n",
        "       Horizontal_Distance_To_Fire_Points  Wilderness_Area  Soil_type  \\\n",
        "275                                  3829                1         23   \n",
        "2302                                  216                1         29   \n",
        "2303                                  277                1         30   \n",
        "2304                                  300                1         30   \n",
        "2345                                  170                1         29   \n",
        "2346                                  242                1         30   \n",
        "2366                                  150                1         29   \n",
        "2386                                   67                1         29   \n",
        "2387                                  218                1         30   \n",
        "2410                                  124                1         30   \n",
        "2434                                  150                1         30   \n",
        "12111                                 192                1         29   \n",
        "12130                                 134                1         29   \n",
        "\n",
        "       Cover_Type  \n",
        "275             2  \n",
        "2302            5  \n",
        "2303            5  \n",
        "2304            5  \n",
        "2345            5  \n",
        "2346            5  \n",
        "2366            5  \n",
        "2386            5  \n",
        "2387            5  \n",
        "2410            5  \n",
        "2434            5  \n",
        "12111           5  \n",
        "12130           5  \n",
        "\n",
        "[13 rows x 14 columns]\n"
       ]
      }
     ],
     "prompt_number": 25
    }
   ],
   "metadata": {}
  }
 ]
}